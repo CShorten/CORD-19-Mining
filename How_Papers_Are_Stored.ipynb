{
  "nbformat": 4,
  "nbformat_minor": 0,
  "metadata": {
    "colab": {
      "name": "How_Papers_Are_Stored.ipynb",
      "provenance": [],
      "collapsed_sections": [],
      "authorship_tag": "ABX9TyN6uf3lKmSa+yM3UvepCD20",
      "include_colab_link": true
    },
    "kernelspec": {
      "name": "python3",
      "display_name": "Python 3"
    }
  },
  "cells": [
    {
      "cell_type": "markdown",
      "metadata": {
        "id": "view-in-github",
        "colab_type": "text"
      },
      "source": [
        "<a href=\"https://colab.research.google.com/github/CShorten/CORD-19-Mining/blob/main/How_Papers_Are_Stored.ipynb\" target=\"_parent\"><img src=\"https://colab.research.google.com/assets/colab-badge.svg\" alt=\"Open In Colab\"/></a>"
      ]
    },
    {
      "cell_type": "markdown",
      "metadata": {
        "id": "3fFJxFXaJMlK"
      },
      "source": [
        "<h2> How CORD-19 stored Papers </h2>"
      ]
    },
    {
      "cell_type": "markdown",
      "metadata": {
        "id": "Htab_D91JP_R"
      },
      "source": [
        "This notebook explores what information is contained in this dataset"
      ]
    },
    {
      "cell_type": "markdown",
      "metadata": {
        "id": "hL3DNdtFJrQI"
      },
      "source": [
        "<h4> Read a Sample Paper (Json Data) </h4>"
      ]
    },
    {
      "cell_type": "markdown",
      "metadata": {
        "id": "NMJRR3nbLAo2"
      },
      "source": [
        "I'm storing this paper locally, sampled from CORD-19"
      ]
    },
    {
      "cell_type": "code",
      "metadata": {
        "id": "jSuDIktMJyKz"
      },
      "source": [
        "from google.colab import files\n",
        "files.upload()"
      ],
      "execution_count": null,
      "outputs": []
    },
    {
      "cell_type": "code",
      "metadata": {
        "id": "2hUoDw8nJIUT"
      },
      "source": [
        "import json\n",
        "\n",
        "with open('CORD_Sample.json') as jsonfile:\n",
        "  paper_dict = json.load(jsonfile)"
      ],
      "execution_count": 9,
      "outputs": []
    },
    {
      "cell_type": "code",
      "metadata": {
        "id": "n4QwF1gJKDb7",
        "outputId": "a87752e7-a72b-4d37-8faa-8a320da795ff",
        "colab": {
          "base_uri": "https://localhost:8080/"
        }
      },
      "source": [
        "print(paper_dict.keys())"
      ],
      "execution_count": 15,
      "outputs": [
        {
          "output_type": "stream",
          "text": [
            "dict_keys(['paper_id', 'metadata', 'abstract', 'body_text', 'bib_entries', 'ref_entries', 'back_matter'])\n"
          ],
          "name": "stdout"
        }
      ]
    },
    {
      "cell_type": "markdown",
      "metadata": {
        "id": "mHRUto9QMF_v"
      },
      "source": [
        "<h4> Starting with the Abstract </h4>"
      ]
    },
    {
      "cell_type": "markdown",
      "metadata": {
        "id": "O1sQ-TcsM8kP"
      },
      "source": [
        "Firstly, note the format of the JSON file.\n",
        "<li>Each paper is stored as a dictionary with these keys shown above.</li>\n",
        "<li>Each entry such as 'abstract' is a list containing dictionaries.</li>\n",
        "<li>In the abstract, there is only one such dicitonary.</li>\n",
        "<li>The body text has a few of these dictionaries for each paragraph.</li>"
      ]
    },
    {
      "cell_type": "code",
      "metadata": {
        "id": "G-GvZstNK4l_",
        "outputId": "7834439e-3ec3-491d-ec26-b153863fc4af",
        "colab": {
          "base_uri": "https://localhost:8080/"
        }
      },
      "source": [
        "print(type(paper_dict['abstract']))"
      ],
      "execution_count": 17,
      "outputs": [
        {
          "output_type": "stream",
          "text": [
            "<class 'list'>\n"
          ],
          "name": "stdout"
        }
      ]
    },
    {
      "cell_type": "code",
      "metadata": {
        "id": "LZQ2J-PIK_E0",
        "outputId": "0cd222dc-abee-4cb2-bfe1-2babedbaa5f5",
        "colab": {
          "base_uri": "https://localhost:8080/"
        }
      },
      "source": [
        "paper_dict['abstract']"
      ],
      "execution_count": 23,
      "outputs": [
        {
          "output_type": "execute_result",
          "data": {
            "text/plain": [
              "[{'cite_spans': [],\n",
              "  'ref_spans': [],\n",
              "  'section': 'Abstract',\n",
              "  'text': 'Bacille Calmette-Guérin (BCG) is an attenuated strain of Mycobacterium bovis currently used as a vaccine against tuberculosis. Global distribution and propagation of BCG has contributed to the in vitro evolution of the vaccine strain and is thought to partially account for the different outcomes of BCG vaccine trials. Previous efforts by several molecular techniques effectively identified large sequence polymorphisms among BCG daughter strains, but lacked the resolution to identify smaller changes. In this study, we have used a NimbleGen tiling array for whole genome comparison of 13 BCG strains. Using this approach, in tandem with DNA resequencing, we have identified six novel large sequence polymorphisms including four deletions and two duplications in specific BCG strains. Moreover, we have uncovered various polymorphisms in the phoP-phoR locus. Importantly, these polymorphisms affect genes encoding established virulence factors including cell wall complex lipids, ESX secretion systems, and the PhoP-PhoR two-component system. Our study demonstrates that major virulence factors are different among BCG strains, which provide molecular mechanisms for important vaccine phenotypes including adverse effect profile, tuberculin reactivity and protective efficacy. These findings have important implications for the development of a new generation of vaccines.'}]"
            ]
          },
          "metadata": {
            "tags": []
          },
          "execution_count": 23
        }
      ]
    },
    {
      "cell_type": "code",
      "metadata": {
        "id": "QkCyj1StLMn9",
        "outputId": "4483e83e-6fba-4305-a96b-d5d7ca82123b",
        "colab": {
          "base_uri": "https://localhost:8080/"
        }
      },
      "source": [
        "print(type(paper_dict['abstract'][0]))"
      ],
      "execution_count": 21,
      "outputs": [
        {
          "output_type": "execute_result",
          "data": {
            "text/plain": [
              "dict"
            ]
          },
          "metadata": {
            "tags": []
          },
          "execution_count": 21
        }
      ]
    },
    {
      "cell_type": "code",
      "metadata": {
        "id": "JZd5kAp2LYpJ",
        "outputId": "af6899d7-e4f6-4796-8c48-047c4c5f1393",
        "colab": {
          "base_uri": "https://localhost:8080/"
        }
      },
      "source": [
        "abstract_data = paper_dict['abstract'][0]\n",
        "abstract_data.keys()"
      ],
      "execution_count": 24,
      "outputs": [
        {
          "output_type": "execute_result",
          "data": {
            "text/plain": [
              "dict_keys(['text', 'cite_spans', 'ref_spans', 'section'])"
            ]
          },
          "metadata": {
            "tags": []
          },
          "execution_count": 24
        }
      ]
    },
    {
      "cell_type": "code",
      "metadata": {
        "id": "V-MA3X69Lm8H",
        "outputId": "4fda0af7-1b76-4bb4-f8a4-729f6200e739",
        "colab": {
          "base_uri": "https://localhost:8080/"
        }
      },
      "source": [
        "print(abstract_data['text'])"
      ],
      "execution_count": 26,
      "outputs": [
        {
          "output_type": "stream",
          "text": [
            "Bacille Calmette-Guérin (BCG) is an attenuated strain of Mycobacterium bovis currently used as a vaccine against tuberculosis. Global distribution and propagation of BCG has contributed to the in vitro evolution of the vaccine strain and is thought to partially account for the different outcomes of BCG vaccine trials. Previous efforts by several molecular techniques effectively identified large sequence polymorphisms among BCG daughter strains, but lacked the resolution to identify smaller changes. In this study, we have used a NimbleGen tiling array for whole genome comparison of 13 BCG strains. Using this approach, in tandem with DNA resequencing, we have identified six novel large sequence polymorphisms including four deletions and two duplications in specific BCG strains. Moreover, we have uncovered various polymorphisms in the phoP-phoR locus. Importantly, these polymorphisms affect genes encoding established virulence factors including cell wall complex lipids, ESX secretion systems, and the PhoP-PhoR two-component system. Our study demonstrates that major virulence factors are different among BCG strains, which provide molecular mechanisms for important vaccine phenotypes including adverse effect profile, tuberculin reactivity and protective efficacy. These findings have important implications for the development of a new generation of vaccines.\n"
          ],
          "name": "stdout"
        }
      ]
    },
    {
      "cell_type": "markdown",
      "metadata": {
        "id": "f1qSGEvwLttF"
      },
      "source": [
        "<h3> We are interested in truncating the length of these text passages </h3>"
      ]
    },
    {
      "cell_type": "code",
      "metadata": {
        "id": "SvqwFQPJLoMh",
        "outputId": "5501a4d1-db9d-4ab9-b9ba-da394b1df1d8",
        "colab": {
          "base_uri": "https://localhost:8080/"
        }
      },
      "source": [
        "print(len(abstract_data['text']))"
      ],
      "execution_count": 27,
      "outputs": [
        {
          "output_type": "stream",
          "text": [
            "1374\n"
          ],
          "name": "stdout"
        }
      ]
    },
    {
      "cell_type": "markdown",
      "metadata": {
        "id": "i8yJP794L4VB"
      },
      "source": [
        "<h4> There are <b> 1374 words </b> in the abstract! </h4>"
      ]
    },
    {
      "cell_type": "markdown",
      "metadata": {
        "id": "sdHm7yS7MKfy"
      },
      "source": [
        "<h4> Let's see the story with a sampled paragraph from the paper </h4>\n",
        "Again, this is stored as a list of dictionaries.\n",
        "<br /><br />\n",
        "Each entry in the list corresponds to a sampled paragraph in the paper"
      ]
    },
    {
      "cell_type": "code",
      "metadata": {
        "id": "wB6SxcngLsrB",
        "outputId": "2a69ed8f-a9e7-43dc-aa4b-b7ed09dad845",
        "colab": {
          "base_uri": "https://localhost:8080/"
        }
      },
      "source": [
        "body_text = paper_dict['body_text']\n",
        "type(body_text)"
      ],
      "execution_count": 36,
      "outputs": [
        {
          "output_type": "execute_result",
          "data": {
            "text/plain": [
              "list"
            ]
          },
          "metadata": {
            "tags": []
          },
          "execution_count": 36
        }
      ]
    },
    {
      "cell_type": "code",
      "metadata": {
        "id": "7NraykYcMQfi",
        "outputId": "96ac51d2-d3e7-4bd1-ebc9-517f5b9ec66f",
        "colab": {
          "base_uri": "https://localhost:8080/"
        }
      },
      "source": [
        "len(body_text)"
      ],
      "execution_count": 38,
      "outputs": [
        {
          "output_type": "execute_result",
          "data": {
            "text/plain": [
              "39"
            ]
          },
          "metadata": {
            "tags": []
          },
          "execution_count": 38
        }
      ]
    },
    {
      "cell_type": "markdown",
      "metadata": {
        "id": "89niR_kvOpaT"
      },
      "source": [
        "There are 39 paragraphs contained in the body text"
      ]
    },
    {
      "cell_type": "code",
      "metadata": {
        "id": "iFxdcdTRMw-d",
        "outputId": "7cdf2020-4808-4a72-d526-c5232a4a7880",
        "colab": {
          "base_uri": "https://localhost:8080/",
          "height": 213
        }
      },
      "source": [
        "body_text[0]['text']"
      ],
      "execution_count": 40,
      "outputs": [
        {
          "output_type": "execute_result",
          "data": {
            "application/vnd.google.colaboratory.intrinsic+json": {
              "type": "string"
            },
            "text/plain": [
              "'Bacille Calmette-Guérin (BCG) is an attenuated strain of Mycobacterium bovis and is the only available vaccine against tuberculosis (TB). Since 1974, BCG vaccination has been included in the World Health Organization (WHO) Expanded Program on Immunization. It is estimated that more than 3 billion individuals have been immunized with BCG and over 100 million doses of BCG are administered annually. Multiple studies have confirmed that BCG is generally safe and can protect children against disseminated disease, including tuberculosis meningitis [1, 2] . BCG also provides cross-protection against leprosy [3] . However, the success of BCG against pulmonary TB in adults is still debated, since randomized clini-cal trials have reported protection efficacy ranging from 0-80% [4, 5] . Several hypotheses for the variation in observed efficacy have been proposed [6] [7] [8] [9] .'"
            ]
          },
          "metadata": {
            "tags": []
          },
          "execution_count": 40
        }
      ]
    },
    {
      "cell_type": "code",
      "metadata": {
        "id": "9O79MALSOreN",
        "outputId": "b6a1a89c-e2b3-4d59-e49e-a3cec5e3aa97",
        "colab": {
          "base_uri": "https://localhost:8080/",
          "height": 83
        }
      },
      "source": [
        "body_text[38]['text']"
      ],
      "execution_count": 41,
      "outputs": [
        {
          "output_type": "execute_result",
          "data": {
            "application/vnd.google.colaboratory.intrinsic+json": {
              "type": "string"
            },
            "text/plain": [
              "'ASL, VT, ZW, and XY performed the experiments and participated in data analysis. DCA participated in data analysis and co-authored the manuscript. GFG oversaw the experiments. BZ oversaw the experiments and participated in data analysis. JL oversaw the experiments, analyzed the data, and wrote the manuscript.'"
            ]
          },
          "metadata": {
            "tags": []
          },
          "execution_count": 41
        }
      ]
    },
    {
      "cell_type": "markdown",
      "metadata": {
        "id": "tCHtJTuwOxrk"
      },
      "source": [
        "Length distribution of paragraphs in the body text"
      ]
    },
    {
      "cell_type": "code",
      "metadata": {
        "id": "3xu8EYJObkbs"
      },
      "source": [
        "import matplotlib.pyplot as plt\n",
        "import seaborn as sns\n",
        "import numpy as np"
      ],
      "execution_count": 48,
      "outputs": []
    },
    {
      "cell_type": "code",
      "metadata": {
        "id": "m9T8N1e_OuLO"
      },
      "source": [
        "lengths = []\n",
        "for i in range(len(body_text)):\n",
        "  lengths.append(len(body_text[i]['text']))"
      ],
      "execution_count": 56,
      "outputs": []
    },
    {
      "cell_type": "code",
      "metadata": {
        "id": "vH8cRvHZbn_q",
        "outputId": "27764f04-a8e9-4366-9236-2716b62ee4cc",
        "colab": {
          "base_uri": "https://localhost:8080/",
          "height": 295
        }
      },
      "source": [
        "lengths = np.array(lengths)\n",
        "plt.title('Word Length Distribution')\n",
        "plt.xlabel('Word Count')\n",
        "plt.ylabel('Count')\n",
        "sns.histplot(lengths, bins=8);"
      ],
      "execution_count": 64,
      "outputs": [
        {
          "output_type": "display_data",
          "data": {
            "image/png": "[encoded data removed]",
            "text/plain": [
              "<Figure size 432x288 with 1 Axes>"
            ]
          },
          "metadata": {
            "tags": [],
            "needs_background": "light"
          }
        }
      ]
    },
    {
      "cell_type": "markdown",
      "metadata": {
        "id": "Ia39W6s7RJLS"
      },
      "source": [
        "Word Frequency Distribution (For this one paper)"
      ]
    },
    {
      "cell_type": "code",
      "metadata": {
        "id": "EJXWI6uXdZN-",
        "outputId": "5379deb4-2c7f-4928-9427-e4cddcdaf951",
        "colab": {
          "base_uri": "https://localhost:8080/",
          "height": 35
        }
      },
      "source": [
        "body_text[0]['text'].split(' ')[0]"
      ],
      "execution_count": 70,
      "outputs": [
        {
          "output_type": "execute_result",
          "data": {
            "application/vnd.google.colaboratory.intrinsic+json": {
              "type": "string"
            },
            "text/plain": [
              "'Bacille'"
            ]
          },
          "metadata": {
            "tags": []
          },
          "execution_count": 70
        }
      ]
    },
    {
      "cell_type": "code",
      "metadata": {
        "id": "jvJxAdAdOy_1"
      },
      "source": [
        "word_count_dict = {}\n",
        "for i in range(len(body_text)):\n",
        "  paragraph = body_text[i]['text']\n",
        "  paragraph = paragraph.split(' ')\n",
        "  for word in range(len(paragraph)):\n",
        "\n",
        "    if word in word_count_dict:\n",
        "      word_count_dict[word] += 1\n",
        "    else:\n",
        "      word_count_dict[word] = 1\n"
      ],
      "execution_count": 67,
      "outputs": []
    },
    {
      "cell_type": "markdown",
      "metadata": {
        "id": "dTDHMrNPRK6w"
      },
      "source": [
        "Bigram Frequency Distribution (For this one paper)"
      ]
    },
    {
      "cell_type": "code",
      "metadata": {
        "id": "ZLX-KTynRMns"
      },
      "source": [
        ""
      ],
      "execution_count": null,
      "outputs": []
    }
  ]
}