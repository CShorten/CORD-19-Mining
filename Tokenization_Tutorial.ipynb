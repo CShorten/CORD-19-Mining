{
  "nbformat": 4,
  "nbformat_minor": 0,
  "metadata": {
    "colab": {
      "name": "Tokenization_Tutorial.ipynb",
      "provenance": [],
      "collapsed_sections": [],
      "authorship_tag": "ABX9TyOwBNL+EpyObJHj6jBDiQcP",
      "include_colab_link": true
    },
    "kernelspec": {
      "name": "python3",
      "display_name": "Python 3"
    }
  },
  "cells": [
    {
      "cell_type": "markdown",
      "metadata": {
        "id": "view-in-github",
        "colab_type": "text"
      },
      "source": [
        "<a href=\"https://colab.research.google.com/github/CShorten/CORD-19-Mining/blob/main/Tokenization_Tutorial.ipynb\" target=\"_parent\"><img src=\"https://colab.research.google.com/assets/colab-badge.svg\" alt=\"Open In Colab\"/></a>"
      ]
    },
    {
      "cell_type": "markdown",
      "metadata": {
        "id": "Oz5pwcQ2YA7P"
      },
      "source": [
        "<h2> NLTK Tokenization </h2>\n",
        "\n",
        "Corresponding article:"
      ]
    },
    {
      "cell_type": "code",
      "metadata": {
        "id": "h5BrJiZIl-nm"
      },
      "source": [
        "from google.colab import files\n",
        "files.upload()"
      ],
      "execution_count": null,
      "outputs": []
    },
    {
      "cell_type": "code",
      "metadata": {
        "id": "PhYrvg4UmEIf",
        "colab": {
          "base_uri": "https://localhost:8080/"
        },
        "outputId": "ab8fa08e-079f-4062-8034-1dcfc8328883"
      },
      "source": [
        "!unzip Pdf_Json_1_DataFrame.csv.zip"
      ],
      "execution_count": 2,
      "outputs": [
        {
          "output_type": "stream",
          "text": [
            "Archive:  Pdf_Json_1_DataFrame.csv.zip\n",
            "  inflating: Pdf_Json_1_DataFrame.csv  \n"
          ],
          "name": "stdout"
        }
      ]
    },
    {
      "cell_type": "code",
      "metadata": {
        "colab": {
          "base_uri": "https://localhost:8080/"
        },
        "id": "DptDzveCovPj",
        "outputId": "92223bd6-e45e-482d-c45a-7bc2654bb57d"
      },
      "source": [
        "import pandas as pd\n",
        "df = pd.read_csv('Pdf_Json_1_DataFrame.csv')\n",
        "df.info()"
      ],
      "execution_count": 3,
      "outputs": [
        {
          "output_type": "stream",
          "text": [
            "<class 'pandas.core.frame.DataFrame'>\n",
            "RangeIndex: 397541 entries, 0 to 397540\n",
            "Data columns (total 2 columns):\n",
            " #   Column    Non-Null Count   Dtype \n",
            "---  ------    --------------   ----- \n",
            " 0   Sequence  397541 non-null  object\n",
            " 1   Label     397541 non-null  int64 \n",
            "dtypes: int64(1), object(1)\n",
            "memory usage: 6.1+ MB\n"
          ],
          "name": "stdout"
        }
      ]
    },
    {
      "cell_type": "code",
      "metadata": {
        "colab": {
          "base_uri": "https://localhost:8080/"
        },
        "id": "a37Y1t7_oyyQ",
        "outputId": "aa0185fa-7d85-411a-b7b9-1540c49fb85e"
      },
      "source": [
        "import nltk\n",
        "nltk.download('punkt');"
      ],
      "execution_count": 5,
      "outputs": [
        {
          "output_type": "stream",
          "text": [
            "[nltk_data] Downloading package punkt to /root/nltk_data...\n",
            "[nltk_data]   Unzipping tokenizers/punkt.zip.\n"
          ],
          "name": "stdout"
        }
      ]
    },
    {
      "cell_type": "code",
      "metadata": {
        "colab": {
          "base_uri": "https://localhost:8080/"
        },
        "id": "eFu-VaVqo2AP",
        "outputId": "bf253302-85d4-4adf-c954-cbc8ceb9dee7"
      },
      "source": [
        "from nltk.tokenize import word_tokenize\n",
        "text = \"Exploring the CORD19 Dataset for Evidence Retrieval\"\n",
        "print(word_tokenize(text))"
      ],
      "execution_count": 6,
      "outputs": [
        {
          "output_type": "stream",
          "text": [
            "['Exploring', 'the', 'CORD19', 'Dataset', 'for', 'Evidence', 'Retrieval']\n"
          ],
          "name": "stdout"
        }
      ]
    },
    {
      "cell_type": "code",
      "metadata": {
        "colab": {
          "base_uri": "https://localhost:8080/"
        },
        "id": "dfywDDb31fva",
        "outputId": "6e384c82-bc76-40e4-ca40-018d2e533bae"
      },
      "source": [
        "%%time\n",
        "word_tokenize(text);"
      ],
      "execution_count": 7,
      "outputs": [
        {
          "output_type": "stream",
          "text": [
            "CPU times: user 239 µs, sys: 0 ns, total: 239 µs\n",
            "Wall time: 244 µs\n"
          ],
          "name": "stdout"
        },
        {
          "output_type": "execute_result",
          "data": {
            "text/plain": [
              "['Exploring', 'the', 'CORD19', 'Dataset', 'for', 'Evidence', 'Retrieval']"
            ]
          },
          "metadata": {
            "tags": []
          },
          "execution_count": 7
        }
      ]
    },
    {
      "cell_type": "code",
      "metadata": {
        "id": "_jc6hzGAOXHl"
      },
      "source": [
        "test = []\n",
        "for i in range(0, 100):\n",
        "  test.append(\"Thanks for checking out this notebook on Tokenization for CORD19\")"
      ],
      "execution_count": 9,
      "outputs": []
    },
    {
      "cell_type": "code",
      "metadata": {
        "colab": {
          "base_uri": "https://localhost:8080/"
        },
        "id": "On80_Mn-OdT7",
        "outputId": "f4b25671-0bc6-4285-c2cf-9bc07f43894d"
      },
      "source": [
        "%%time\n",
        "for seq in test:\n",
        "  word_tokenize(seq)"
      ],
      "execution_count": 11,
      "outputs": [
        {
          "output_type": "stream",
          "text": [
            "CPU times: user 11.8 ms, sys: 0 ns, total: 11.8 ms\n",
            "Wall time: 11.7 ms\n"
          ],
          "name": "stdout"
        }
      ]
    },
    {
      "cell_type": "markdown",
      "metadata": {
        "id": "Iiv7fUY3pLN3"
      },
      "source": [
        "<h2> Building the Token -> Index Dictionary </h2>"
      ]
    },
    {
      "cell_type": "markdown",
      "metadata": {
        "id": "YmQlsjxDpysm"
      },
      "source": [
        "Strategy #1: Top-K most frequent tokens"
      ]
    },
    {
      "cell_type": "code",
      "metadata": {
        "id": "YI4TEsVwo3v4"
      },
      "source": [
        "Index_Token_Dict = {}\n",
        "# \n",
        "new_index_lists = []"
      ],
      "execution_count": 23,
      "outputs": []
    },
    {
      "cell_type": "markdown",
      "metadata": {
        "id": "L0q-UBoTqqnV"
      },
      "source": [
        "Damn this took forever..."
      ]
    },
    {
      "cell_type": "code",
      "metadata": {
        "colab": {
          "base_uri": "https://localhost:8080/"
        },
        "id": "SPbmeYggpEq1",
        "outputId": "6e0ad6da-984d-4301-b64e-bc99265ab344"
      },
      "source": [
        "%%time\n",
        "freq_counter = {}\n",
        "for i in df.Sequence:\n",
        "  tok_seq = word_tokenize(i)\n",
        "  for tok in tok_seq:\n",
        "    if tok in freq_counter.keys():\n",
        "      freq_counter[tok] += 1\n",
        "    else:\n",
        "      freq_counter[tok] = 1"
      ],
      "execution_count": 12,
      "outputs": [
        {
          "output_type": "stream",
          "text": [
            "CPU times: user 5min 5s, sys: 770 ms, total: 5min 6s\n",
            "Wall time: 5min 7s\n"
          ],
          "name": "stdout"
        }
      ]
    },
    {
      "cell_type": "markdown",
      "metadata": {
        "id": "SRnBuztlrSJZ"
      },
      "source": [
        "Sort the Dictionary"
      ]
    },
    {
      "cell_type": "code",
      "metadata": {
        "id": "v8M2IVktrQ7y"
      },
      "source": [
        "import operator\n",
        "sorted_dict = sorted(freq_counter.items(), key=operator.itemgetter(1))\n",
        "# credit: https://stackoverflow.com/questions/613183/how-do-i-sort-a-dictionary-by-value"
      ],
      "execution_count": 13,
      "outputs": []
    },
    {
      "cell_type": "code",
      "metadata": {
        "colab": {
          "base_uri": "https://localhost:8080/"
        },
        "id": "ab-Rc9RzsI_g",
        "outputId": "80e32805-f2b5-4a0a-ecf3-376544bd760c"
      },
      "source": [
        "len(sorted_dict)"
      ],
      "execution_count": 14,
      "outputs": [
        {
          "output_type": "execute_result",
          "data": {
            "text/plain": [
              "656159"
            ]
          },
          "metadata": {
            "tags": []
          },
          "execution_count": 14
        }
      ]
    },
    {
      "cell_type": "code",
      "metadata": {
        "colab": {
          "base_uri": "https://localhost:8080/"
        },
        "id": "QxLxCEi6RC9r",
        "outputId": "ae3de903-4b12-4926-b26a-b1ab53348b04"
      },
      "source": [
        "sorted_dict[-30_000:][:5]"
      ],
      "execution_count": 21,
      "outputs": [
        {
          "output_type": "execute_result",
          "data": {
            "text/plain": [
              "[('scintillation', 41),\n",
              " ('inositol', 41),\n",
              " ('Proteintech', 41),\n",
              " ('stillbirth', 41),\n",
              " ('colder', 41)]"
            ]
          },
          "metadata": {
            "tags": []
          },
          "execution_count": 21
        }
      ]
    },
    {
      "cell_type": "code",
      "metadata": {
        "colab": {
          "base_uri": "https://localhost:8080/"
        },
        "id": "0DdyZtJoswHo",
        "outputId": "2a5a512d-66e0-4d08-8756-f4f08cce6f4b"
      },
      "source": [
        "sorted_dict[-2:]"
      ],
      "execution_count": 15,
      "outputs": [
        {
          "output_type": "execute_result",
          "data": {
            "text/plain": [
              "[('the', 1567251), (',', 1867586)]"
            ]
          },
          "metadata": {
            "tags": []
          },
          "execution_count": 15
        }
      ]
    },
    {
      "cell_type": "code",
      "metadata": {
        "colab": {
          "base_uri": "https://localhost:8080/",
          "height": 35
        },
        "id": "dh5Sl6rxtJmZ",
        "outputId": "30eac3c6-0192-4bd6-b952-da7e0a849730"
      },
      "source": [
        "sorted_dict[-1][0]"
      ],
      "execution_count": null,
      "outputs": [
        {
          "output_type": "execute_result",
          "data": {
            "application/vnd.google.colaboratory.intrinsic+json": {
              "type": "string"
            },
            "text/plain": [
              "','"
            ]
          },
          "metadata": {
            "tags": []
          },
          "execution_count": 12
        }
      ]
    },
    {
      "cell_type": "code",
      "metadata": {
        "id": "Ara7T88jtOSU"
      },
      "source": [
        "# use index 30k for UNK token\n",
        "top_K_list = sorted_dict[-29_999:]"
      ],
      "execution_count": 24,
      "outputs": []
    },
    {
      "cell_type": "code",
      "metadata": {
        "id": "PC-z6OxttjHA"
      },
      "source": [
        "frequency_counters = []\n",
        "for i in range(len(top_K_list)):\n",
        "  frequency_counters.append(top_K_list[i][1])"
      ],
      "execution_count": 26,
      "outputs": []
    },
    {
      "cell_type": "code",
      "metadata": {
        "id": "R1VWAVuYurJI"
      },
      "source": [
        "sample = frequency_counters[-50:]"
      ],
      "execution_count": 27,
      "outputs": []
    },
    {
      "cell_type": "code",
      "metadata": {
        "colab": {
          "base_uri": "https://localhost:8080/",
          "height": 277
        },
        "id": "WfvLt2_huHwt",
        "outputId": "376d2051-94ae-41d7-a8c6-5e95f5071de0"
      },
      "source": [
        "import matplotlib.pyplot as plt \n",
        "import seaborn as sns\n",
        "\n",
        "plt.hist(sample, bins=10);\n",
        "plt.yscale(\"log\");"
      ],
      "execution_count": 28,
      "outputs": [
        {
          "output_type": "display_data",
          "data": {
            "image/png": "[encoded data removed]",
            "text/plain": [
              "<Figure size 432x288 with 1 Axes>"
            ]
          },
          "metadata": {
            "tags": [],
            "needs_background": "light"
          }
        }
      ]
    },
    {
      "cell_type": "code",
      "metadata": {
        "id": "HNDHwevop_uA"
      },
      "source": [
        "top_K_token_index_dict = {}\n",
        "top_K_index_token_dict = {}\n",
        "counter = 1\n",
        "\n",
        "for i in range(len(top_K_list)):\n",
        "  top_K_token_index_dict[top_K_list[i][0]] = counter\n",
        "  top_K_index_token_dict[counter] = top_K_list[i][0]\n",
        "  counter += 1\n",
        "\n",
        "top_K_index_token_dict[30_000] = \"Unknown\""
      ],
      "execution_count": 25,
      "outputs": []
    },
    {
      "cell_type": "code",
      "metadata": {
        "id": "FloCz88Ruh-F"
      },
      "source": [
        "def text_to_index(seq, token_index_dict):\n",
        "  idx_lst = []\n",
        "  tok_lst = word_tokenize(seq)\n",
        "  for tok in tok_lst:\n",
        "    if tok not in token_index_dict.keys():\n",
        "      idx_lst.append(30_000)\n",
        "    else:\n",
        "      idx_lst.append(token_index_dict[tok])\n",
        "  return idx_lst"
      ],
      "execution_count": 44,
      "outputs": []
    },
    {
      "cell_type": "code",
      "metadata": {
        "colab": {
          "base_uri": "https://localhost:8080/"
        },
        "id": "kUg_jmlhvnke",
        "outputId": "fa6f4ed7-2b77-4667-a98e-d5c063b6a05e"
      },
      "source": [
        "sentence = \"hello how are you doing\"\n",
        "text_to_index(sentence, top_K_token_index_dict)"
      ],
      "execution_count": 45,
      "outputs": [
        {
          "output_type": "execute_result",
          "data": {
            "text/plain": [
              "[30000, 29675, 29978, 29143, 25834]"
            ]
          },
          "metadata": {
            "tags": []
          },
          "execution_count": 45
        }
      ]
    },
    {
      "cell_type": "code",
      "metadata": {
        "id": "hNorFEBOzt27"
      },
      "source": [
        "def index_to_text(idx_list, index_token_dict):\n",
        "  word = \"\"\n",
        "  for idx in idx_list:\n",
        "    word += index_token_dict[idx]\n",
        "    word += \" \"\n",
        "  return word"
      ],
      "execution_count": null,
      "outputs": []
    },
    {
      "cell_type": "code",
      "metadata": {
        "colab": {
          "base_uri": "https://localhost:8080/",
          "height": 35
        },
        "id": "j8e0pDZx0j2d",
        "outputId": "0f06f316-64f6-465b-942e-c313e2a14269"
      },
      "source": [
        "index_to_text([30_000, 29_675, 29_978, 29_143, 25_834], top_K_index_token_dict)"
      ],
      "execution_count": null,
      "outputs": [
        {
          "output_type": "execute_result",
          "data": {
            "application/vnd.google.colaboratory.intrinsic+json": {
              "type": "string"
            },
            "text/plain": [
              "'Unknown how are you doing '"
            ]
          },
          "metadata": {
            "tags": []
          },
          "execution_count": 23
        }
      ]
    },
    {
      "cell_type": "markdown",
      "metadata": {
        "id": "LEOwBxWjVXLB"
      },
      "source": [
        "<h2> Save Dictionaries </h2>"
      ]
    },
    {
      "cell_type": "code",
      "metadata": {
        "id": "YRj6bsQOS7A4"
      },
      "source": [
        "import json\n",
        "\n",
        "token_index_dict_write = json.dumps(top_K_token_index_dict)\n",
        "f = open(\"token_index_dict.json\",\"w\")\n",
        "f.write(token_index_dict_write)\n",
        "f.close()"
      ],
      "execution_count": 48,
      "outputs": []
    },
    {
      "cell_type": "code",
      "metadata": {
        "id": "8Ec6DL8fVk0s"
      },
      "source": [
        "index_token_dict_write = json.dumps(top_K_index_token_dict)\n",
        "f = open(\"index_token_dict.json\", \"w\")\n",
        "f.write(index_token_dict_write)\n",
        "f.close()"
      ],
      "execution_count": null,
      "outputs": []
    },
    {
      "cell_type": "markdown",
      "metadata": {
        "id": "MEe3WQmbVszy"
      },
      "source": [
        "<h4> How to load dictionaries </h4>"
      ]
    },
    {
      "cell_type": "code",
      "metadata": {
        "colab": {
          "base_uri": "https://localhost:8080/"
        },
        "id": "QhSyKJU4TWtc",
        "outputId": "98e86c76-9adb-4217-c9d6-18aeddee3943"
      },
      "source": [
        "f = open(\"token_index_dict.json\", \"r\")\n",
        "dict_text = f.readlines()[0]\n",
        "\n",
        "dict_test = json.loads(dict_text)\n",
        "\n",
        "text_to_index(sentence, dict_test)"
      ],
      "execution_count": 47,
      "outputs": [
        {
          "output_type": "execute_result",
          "data": {
            "text/plain": [
              "[30000, 29675, 29978, 29143, 25834]"
            ]
          },
          "metadata": {
            "tags": []
          },
          "execution_count": 47
        }
      ]
    },
    {
      "cell_type": "code",
      "metadata": {
        "colab": {
          "base_uri": "https://localhost:8080/"
        },
        "id": "AyKduFCbwfM8",
        "outputId": "b1e011ab-489e-475a-fa87-d9971a6bc2a8"
      },
      "source": [
        "# random sample test\n",
        "freq_counter['how']"
      ],
      "execution_count": 50,
      "outputs": [
        {
          "output_type": "execute_result",
          "data": {
            "text/plain": [
              "11811"
            ]
          },
          "metadata": {
            "tags": []
          },
          "execution_count": 50
        }
      ]
    },
    {
      "cell_type": "markdown",
      "metadata": {
        "id": "vdfskYVcV3sW"
      },
      "source": [
        "<h2> Convert Text to Index Lists and Save in DataFrame </h2>"
      ]
    },
    {
      "cell_type": "code",
      "metadata": {
        "id": "2jhQi66fnxA7"
      },
      "source": [
        "def build_index_lists(df, text_col_name, text_index_dict):\n",
        "  index_lists = []\n",
        "  for seq in df[text_col_name]:\n",
        "    seq = seq.split(' ')\n",
        "    new_index_list = []\n",
        "    for tok in seq:\n",
        "      if tok in text_index_dict.keys():\n",
        "        new_index_list.append(str(tok) + \" : \" + str(text_index_dict[tok]))\n",
        "      else:\n",
        "        new_index_list.append(str(tok) + \" : \" + str(30_000))\n",
        "    index_lists.append(new_index_list)\n",
        "  return index_lists"
      ],
      "execution_count": 69,
      "outputs": []
    },
    {
      "cell_type": "code",
      "metadata": {
        "id": "KCw2tu-wohI6"
      },
      "source": [
        "index_lists = build_index_lists(df, \"Sequence\", top_K_token_index_dict)"
      ],
      "execution_count": 70,
      "outputs": []
    },
    {
      "cell_type": "markdown",
      "metadata": {
        "id": "7U9VkqeyXy6T"
      },
      "source": [
        "<h2> Sanity Check </h2>"
      ]
    },
    {
      "cell_type": "code",
      "metadata": {
        "colab": {
          "base_uri": "https://localhost:8080/",
          "height": 132
        },
        "id": "M3zsLVxWsHr5",
        "outputId": "9b65cc9f-dd05-437f-c113-fcf73546c6d8"
      },
      "source": [
        "df.Sequence[0]"
      ],
      "execution_count": 71,
      "outputs": [
        {
          "output_type": "execute_result",
          "data": {
            "application/vnd.google.colaboratory.intrinsic+json": {
              "type": "string"
            },
            "text/plain": [
              "'a1111111111 a1111111111 a1111111111 a1111111111 a1111111111 available data; 78%). In addition, significant increases in the levels of lactate dehydrogenase and α-hydroxybutyrate dehydrogenase were detected in 28 patients (among 34 patients with available data; 82%) and 25 patients (among 34 patients with available data; 74%), respectively. Patchy lesions in lobules were detected by chest computed tomographic scans in 28 patients (82%). Ground-glass opacities, which were a typical feature in adults, were rare in pediatric patients (3%). Rapid radiologic progression and a late-onset pattern of lesions in the lobules were also noticed. Lesions in lobules still existed in 24 (among 32 patients with lesions; 75%) patients that were discharged, although the main symptoms disappeared a few days after treatment. All patients were discharged, and the median duration of hospitalization was 10.00 '"
            ]
          },
          "metadata": {
            "tags": []
          },
          "execution_count": 71
        }
      ]
    },
    {
      "cell_type": "code",
      "metadata": {
        "colab": {
          "base_uri": "https://localhost:8080/"
        },
        "id": "3xhuPu3LWwAW",
        "outputId": "bbbc0e69-ca4c-4cb9-cf42-ec9592ed93a5"
      },
      "source": [
        "word_tokenize(df.Sequence[0])[:20]"
      ],
      "execution_count": 72,
      "outputs": [
        {
          "output_type": "execute_result",
          "data": {
            "text/plain": [
              "['a1111111111',\n",
              " 'a1111111111',\n",
              " 'a1111111111',\n",
              " 'a1111111111',\n",
              " 'a1111111111',\n",
              " 'available',\n",
              " 'data',\n",
              " ';',\n",
              " '78',\n",
              " '%',\n",
              " ')',\n",
              " '.',\n",
              " 'In',\n",
              " 'addition',\n",
              " ',',\n",
              " 'significant',\n",
              " 'increases',\n",
              " 'in',\n",
              " 'the',\n",
              " 'levels']"
            ]
          },
          "metadata": {
            "tags": []
          },
          "execution_count": 72
        }
      ]
    },
    {
      "cell_type": "code",
      "metadata": {
        "colab": {
          "base_uri": "https://localhost:8080/"
        },
        "id": "ZXNTms3OWmaR",
        "outputId": "85eb22eb-d51d-4af7-cd79-e0fc10cf36dd"
      },
      "source": [
        "index_lists[0][:20]"
      ],
      "execution_count": 73,
      "outputs": [
        {
          "output_type": "execute_result",
          "data": {
            "text/plain": [
              "['a1111111111 : 21946',\n",
              " 'a1111111111 : 21946',\n",
              " 'a1111111111 : 21946',\n",
              " 'a1111111111 : 21946',\n",
              " 'a1111111111 : 21946',\n",
              " 'available : 29854',\n",
              " 'data; : 30000',\n",
              " '78%). : 30000',\n",
              " 'In : 29963',\n",
              " 'addition, : 30000',\n",
              " 'significant : 29846',\n",
              " 'increases : 29080',\n",
              " 'in : 29994',\n",
              " 'the : 29998',\n",
              " 'levels : 29840',\n",
              " 'of : 29996',\n",
              " 'lactate : 25241',\n",
              " 'dehydrogenase : 24708',\n",
              " 'and : 29995',\n",
              " 'α-hydroxybutyrate : 30000']"
            ]
          },
          "metadata": {
            "tags": []
          },
          "execution_count": 73
        }
      ]
    },
    {
      "cell_type": "code",
      "metadata": {
        "colab": {
          "base_uri": "https://localhost:8080/"
        },
        "id": "lCKF5pYFW5Ag",
        "outputId": "abeb0f26-3f9b-4cd2-90ed-b088be20bc7e"
      },
      "source": [
        "freq_counter['data']"
      ],
      "execution_count": 59,
      "outputs": [
        {
          "output_type": "execute_result",
          "data": {
            "text/plain": [
              "56381"
            ]
          },
          "metadata": {
            "tags": []
          },
          "execution_count": 59
        }
      ]
    },
    {
      "cell_type": "code",
      "metadata": {
        "colab": {
          "base_uri": "https://localhost:8080/"
        },
        "id": "j-uEhmZ-XBLM",
        "outputId": "399313ad-9ef5-4dfb-9041-ee444ede4870"
      },
      "source": [
        "top_K_token_index_dict['data']"
      ],
      "execution_count": 60,
      "outputs": [
        {
          "output_type": "execute_result",
          "data": {
            "text/plain": [
              "29950"
            ]
          },
          "metadata": {
            "tags": []
          },
          "execution_count": 60
        }
      ]
    },
    {
      "cell_type": "code",
      "metadata": {
        "colab": {
          "base_uri": "https://localhost:8080/"
        },
        "id": "8_gyH2oJXMkK",
        "outputId": "044b8bd6-d685-4e88-ea04-4fb188b4bcc7"
      },
      "source": [
        "'data' in top_K_token_index_dict.keys()"
      ],
      "execution_count": 61,
      "outputs": [
        {
          "output_type": "execute_result",
          "data": {
            "text/plain": [
              "True"
            ]
          },
          "metadata": {
            "tags": []
          },
          "execution_count": 61
        }
      ]
    },
    {
      "cell_type": "code",
      "metadata": {
        "colab": {
          "base_uri": "https://localhost:8080/",
          "height": 35
        },
        "id": "xu8NAm4usMgQ",
        "outputId": "f6f0bcca-1561-4095-ef79-a888610cab87"
      },
      "source": [
        "index_to_text([29990], top_K_index_token_dict)"
      ],
      "execution_count": null,
      "outputs": [
        {
          "output_type": "execute_result",
          "data": {
            "application/vnd.google.colaboratory.intrinsic+json": {
              "type": "string"
            },
            "text/plain": [
              "'a '"
            ]
          },
          "metadata": {
            "tags": []
          },
          "execution_count": 28
        }
      ]
    },
    {
      "cell_type": "markdown",
      "metadata": {
        "id": "bWGwF41CX5um"
      },
      "source": [
        "<h2> Padding and Truncating to Length 128 </h2>"
      ]
    },
    {
      "cell_type": "code",
      "metadata": {
        "id": "Q5UWqE-MEkon"
      },
      "source": [
        "def pad_to_length_k(org_index_lists, k):\n",
        "  index_lists = org_index_lists\n",
        "  for seq_list in index_lists:\n",
        "    while (len(seq_list) > k):\n",
        "      seq_list.pop()\n",
        "    while (len(seq_list) < k):\n",
        "      seq_list.append(0)\n",
        "  return index_lists"
      ],
      "execution_count": 74,
      "outputs": []
    },
    {
      "cell_type": "code",
      "metadata": {
        "id": "5P6cjlB9ngGc"
      },
      "source": [
        "index_lists = pad_to_length_k(index_lists, 128)"
      ],
      "execution_count": 75,
      "outputs": []
    },
    {
      "cell_type": "code",
      "metadata": {
        "colab": {
          "base_uri": "https://localhost:8080/"
        },
        "id": "u4b6Ih1yos8M",
        "outputId": "d7ab3899-0ac4-4df8-ed10-0044eb3afb67"
      },
      "source": [
        "df[\"Index_Lists\"] = index_lists\n",
        "df.info()"
      ],
      "execution_count": 76,
      "outputs": [
        {
          "output_type": "stream",
          "text": [
            "<class 'pandas.core.frame.DataFrame'>\n",
            "RangeIndex: 397541 entries, 0 to 397540\n",
            "Data columns (total 3 columns):\n",
            " #   Column       Non-Null Count   Dtype \n",
            "---  ------       --------------   ----- \n",
            " 0   Sequence     397541 non-null  object\n",
            " 1   Label        397541 non-null  int64 \n",
            " 2   Index_Lists  397541 non-null  object\n",
            "dtypes: int64(1), object(2)\n",
            "memory usage: 9.1+ MB\n"
          ],
          "name": "stdout"
        }
      ]
    },
    {
      "cell_type": "code",
      "metadata": {
        "id": "jl1_zhIzNO6w"
      },
      "source": [
        "df.to_csv('IdxLists_Pdf_Json_1.csv', index=False)"
      ],
      "execution_count": 77,
      "outputs": []
    },
    {
      "cell_type": "markdown",
      "metadata": {
        "id": "ZNMt719FwkBH"
      },
      "source": [
        "# Testing the Python File on Github"
      ]
    },
    {
      "cell_type": "code",
      "metadata": {
        "colab": {
          "base_uri": "https://localhost:8080/"
        },
        "id": "o_XXOHBV_irT",
        "outputId": "642e673c-b093-42e7-a8ae-8989d82af126"
      },
      "source": [
        "# If needed to re-upload code from Github without restarting session\n",
        "# import shutil\n",
        "# shutil.rmtree('/path/to/your/dir/')\n",
        "\n",
        "!git clone https://github.com/CShorten/CORD-19-Mining.git"
      ],
      "execution_count": null,
      "outputs": [
        {
          "output_type": "stream",
          "text": [
            "Cloning into 'CORD-19-Mining'...\n",
            "remote: Enumerating objects: 81, done.\u001b[K\n",
            "remote: Counting objects: 100% (81/81), done.\u001b[K\n",
            "remote: Compressing objects: 100% (81/81), done.\u001b[K\n",
            "remote: Total 81 (delta 40), reused 0 (delta 0), pack-reused 0\u001b[K\n",
            "Unpacking objects: 100% (81/81), done.\n"
          ],
          "name": "stdout"
        }
      ]
    },
    {
      "cell_type": "code",
      "metadata": {
        "id": "Sdverilj_krt"
      },
      "source": [
        "import sys, os  \n",
        "sys.path.append(os.getcwd() + '/CORD-19-Mining/')\n",
        "\n",
        "from tokenization import text_to_index, index_to_text"
      ],
      "execution_count": null,
      "outputs": []
    },
    {
      "cell_type": "code",
      "metadata": {
        "colab": {
          "base_uri": "https://localhost:8080/"
        },
        "id": "pib2x8JJBI3N",
        "outputId": "73596368-9202-486d-bfe9-9660fae66a98"
      },
      "source": [
        "text_to_index(\"hello how are you\", top_K_token_index_dict)"
      ],
      "execution_count": 78,
      "outputs": [
        {
          "output_type": "execute_result",
          "data": {
            "text/plain": [
              "[30000, 29675, 29978, 29143]"
            ]
          },
          "metadata": {
            "tags": []
          },
          "execution_count": 78
        }
      ]
    }
  ]
}