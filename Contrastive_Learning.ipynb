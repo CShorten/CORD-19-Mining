{
  "nbformat": 4,
  "nbformat_minor": 0,
  "metadata": {
    "colab": {
      "name": "Metric_Learning_Keras_Examples.ipynb",
      "provenance": [],
      "collapsed_sections": [],
      "authorship_tag": "ABX9TyM4qlUpF0ExORlzdfOYqOI3",
      "include_colab_link": true
    },
    "kernelspec": {
      "name": "python3",
      "display_name": "Python 3"
    }
  },
  "cells": [
    {
      "cell_type": "markdown",
      "metadata": {
        "id": "view-in-github",
        "colab_type": "text"
      },
      "source": [
        "<a href=\"https://colab.research.google.com/github/CShorten/CORD-19-Mining/blob/main/Metric_Learning_1_Positive_1_Negative.ipynb\" target=\"_parent\"><img src=\"https://colab.research.google.com/assets/colab-badge.svg\" alt=\"Open In Colab\"/></a>"
      ]
    },
    {
      "cell_type": "code",
      "metadata": {
        "id": "k8iVeJdfwRUN"
      },
      "source": [
        "from google.colab import files\n",
        "files.upload()"
      ],
      "execution_count": null,
      "outputs": []
    },
    {
      "cell_type": "code",
      "metadata": {
        "id": "cDFap75owWdY"
      },
      "source": [
        "!unzip Pdf_Json_1_DataFrame.csv.zip"
      ],
      "execution_count": null,
      "outputs": []
    },
    {
      "cell_type": "code",
      "metadata": {
        "id": "0J9gquODwzS9",
        "outputId": "220df749-703e-42c5-97a3-18824d85d018",
        "colab": {
          "base_uri": "https://localhost:8080/"
        }
      },
      "source": [
        "import pandas as pd\n",
        "df = pd.read_csv('Pdf_Json_1_DataFrame.csv')\n",
        "df.info()"
      ],
      "execution_count": 3,
      "outputs": [
        {
          "output_type": "stream",
          "text": [
            "<class 'pandas.core.frame.DataFrame'>\n",
            "RangeIndex: 397541 entries, 0 to 397540\n",
            "Data columns (total 2 columns):\n",
            " #   Column    Non-Null Count   Dtype \n",
            "---  ------    --------------   ----- \n",
            " 0   Sequence  397541 non-null  object\n",
            " 1   Label     397541 non-null  int64 \n",
            "dtypes: int64(1), object(1)\n",
            "memory usage: 6.1+ MB\n"
          ],
          "name": "stdout"
        }
      ]
    },
    {
      "cell_type": "code",
      "metadata": {
        "id": "A5D74rlUw2LC",
        "outputId": "7489039b-4add-4c7a-c8ed-391e806f7f16",
        "colab": {
          "base_uri": "https://localhost:8080/"
        }
      },
      "source": [
        "# Loop through, build NLTK Token_to_Index, Tokenize and Indicize\n",
        "import nltk\n",
        "nltk.download('punkt')"
      ],
      "execution_count": 4,
      "outputs": [
        {
          "output_type": "stream",
          "text": [
            "[nltk_data] Downloading package punkt to /root/nltk_data...\n",
            "[nltk_data]   Unzipping tokenizers/punkt.zip.\n"
          ],
          "name": "stdout"
        },
        {
          "output_type": "execute_result",
          "data": {
            "text/plain": [
              "True"
            ]
          },
          "metadata": {
            "tags": []
          },
          "execution_count": 4
        }
      ]
    },
    {
      "cell_type": "code",
      "metadata": {
        "id": "3CleBnXrxk6c",
        "outputId": "70666155-6aad-4dc1-f9b6-4ac85771e1e2",
        "colab": {
          "base_uri": "https://localhost:8080/"
        }
      },
      "source": [
        "from nltk.tokenize import word_tokenize\n",
        "text = \"Exploring the CORD19 Dataset for Evidence Retrieval\"\n",
        "print(word_tokenize(text))"
      ],
      "execution_count": 5,
      "outputs": [
        {
          "output_type": "stream",
          "text": [
            "['Exploring', 'the', 'CORD19', 'Dataset', 'for', 'Evidence', 'Retrieval']\n"
          ],
          "name": "stdout"
        }
      ]
    },
    {
      "cell_type": "code",
      "metadata": {
        "id": "KGsMWMuHx2Lk"
      },
      "source": [
        "def build_word_to_token_dict(df, index_token_dict):\n",
        "  '''\n",
        "  Arguments:\n",
        "    df:\n",
        "    index_token_dict:\n",
        "  Returns:\n",
        "    index_token_dict:\n",
        "  '''\n",
        "  counter = len(index_token_dict.keys())\n",
        "  counter += 1\n",
        "  for sequence in df.Sequence:\n",
        "    words = sequence.split(' ')\n",
        "    new_index_seq = []\n",
        "    for word in words:\n",
        "      if word not in index_token_dict:\n",
        "        index_token_dict[word] = counter\n",
        "        counter += 1\n",
        "      new_index_seq.append(index_token_dict[word])\n",
        "    new_index_lists.append(new_index_seq)\n",
        "  \n",
        "  return new_index_lists, index_token_dict"
      ],
      "execution_count": 14,
      "outputs": []
    },
    {
      "cell_type": "markdown",
      "metadata": {
        "id": "G2idkku1yUF_"
      },
      "source": [
        "<h4> ToDo </h4>\n",
        "\n",
        "<li> save and load index_token_dict </li>\n",
        "<li> define this globally to re-use with the other splits </li>\n",
        "<li> e.g. pdf_json_2, pdf_json_3, ... </li>"
      ]
    },
    {
      "cell_type": "code",
      "metadata": {
        "id": "b-rtbocaznkd"
      },
      "source": [
        "#Defining this globally to re-use with the other splits\n",
        "#e.g. pdf_json_2, pdf_json_3, ...\n",
        "index_token_dict = {}\n",
        "new_index_lists = []\n",
        "\n",
        "\n",
        "index_lists, dictionary = build_word_to_token_dict(df, index_token_dict)"
      ],
      "execution_count": 22,
      "outputs": []
    },
    {
      "cell_type": "code",
      "metadata": {
        "id": "e-_XWbWFzwas",
        "outputId": "67cbc7e2-4e67-4743-b80e-4a09e36d564f",
        "colab": {
          "base_uri": "https://localhost:8080/"
        }
      },
      "source": [
        "dictionary['COVID19']"
      ],
      "execution_count": 23,
      "outputs": [
        {
          "output_type": "execute_result",
          "data": {
            "text/plain": [
              "18676"
            ]
          },
          "metadata": {
            "tags": []
          },
          "execution_count": 23
        }
      ]
    },
    {
      "cell_type": "code",
      "metadata": {
        "id": "97YDemkFzxjK"
      },
      "source": [
        "df[\"Index_Lists\"] = index_lists"
      ],
      "execution_count": 24,
      "outputs": []
    },
    {
      "cell_type": "code",
      "metadata": {
        "id": "l4BAgKr2z4J6",
        "outputId": "da483cff-e1c1-4060-ca61-efd737e8e8a9",
        "colab": {
          "base_uri": "https://localhost:8080/"
        }
      },
      "source": [
        "df.info()"
      ],
      "execution_count": 25,
      "outputs": [
        {
          "output_type": "stream",
          "text": [
            "<class 'pandas.core.frame.DataFrame'>\n",
            "RangeIndex: 397541 entries, 0 to 397540\n",
            "Data columns (total 3 columns):\n",
            " #   Column       Non-Null Count   Dtype \n",
            "---  ------       --------------   ----- \n",
            " 0   Sequence     397541 non-null  object\n",
            " 1   Label        397541 non-null  int64 \n",
            " 2   Index_Lists  397541 non-null  object\n",
            "dtypes: int64(1), object(2)\n",
            "memory usage: 9.1+ MB\n"
          ],
          "name": "stdout"
        }
      ]
    },
    {
      "cell_type": "code",
      "metadata": {
        "id": "B7KAFUvS035z",
        "outputId": "c2259844-33d4-44f7-92a7-17a73e37cad8",
        "colab": {
          "base_uri": "https://localhost:8080/"
        }
      },
      "source": [
        "df.Index_Lists[50]"
      ],
      "execution_count": 30,
      "outputs": [
        {
          "output_type": "execute_result",
          "data": {
            "text/plain": [
              "[1418, 12, 1419, 96, 1420, 1421, 61, 714, 229, 379, 1422, 12, 1423, 77]"
            ]
          },
          "metadata": {
            "tags": []
          },
          "execution_count": 30
        }
      ]
    },
    {
      "cell_type": "code",
      "metadata": {
        "id": "uU547QC206Ar",
        "outputId": "cdf5f125-00c5-4aca-a944-03d5de1a9efd",
        "colab": {
          "base_uri": "https://localhost:8080/",
          "height": 35
        }
      },
      "source": [
        "df.Sequence[50]"
      ],
      "execution_count": 31,
      "outputs": [
        {
          "output_type": "execute_result",
          "data": {
            "application/vnd.google.colaboratory.intrinsic+json": {
              "type": "string"
            },
            "text/plain": [
              "'Conflict of interest The authors declare that they have no conflicts of interest. '"
            ]
          },
          "metadata": {
            "tags": []
          },
          "execution_count": 31
        }
      ]
    },
    {
      "cell_type": "code",
      "metadata": {
        "id": "tiQ5sn0C07kj"
      },
      "source": [
        ""
      ],
      "execution_count": null,
      "outputs": []
    }
  ]
}
