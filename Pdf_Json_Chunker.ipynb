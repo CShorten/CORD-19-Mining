{
 "cells": [
  {
   "cell_type": "code",
   "execution_count": 2,
   "metadata": {},
   "outputs": [
    {
     "name": "stdout",
     "output_type": "stream",
     "text": [
      "PDF JSON CHUNKER\n"
     ]
    }
   ],
   "source": [
    "'''\n",
    "This notebook is splitting up the pdf_json folder\n",
    "I want to have 10 separate pdf_json_1, pdf_json_2, files, etc.\n",
    "To avoid the data transfer bottleneck to colab\n",
    "'''\n",
    "print(\"PDF JSON CHUNKER\")"
   ]
  },
  {
   "cell_type": "code",
   "execution_count": 4,
   "metadata": {},
   "outputs": [],
   "source": [
    "import os\n",
    "for i in range(1,11):\n",
    "    os.mkdir('pdf_json_'+str(i))"
   ]
  },
  {
   "cell_type": "code",
   "execution_count": 9,
   "metadata": {},
   "outputs": [],
   "source": [
    "# There are 123,508 Papers in this Folder\n",
    "# 123,508 / 10 -> 12.3K in each folder\n",
    "import shutil\n",
    "org_paper_counter = 1\n",
    "folder_index = 1\n",
    "DIR = 'pdf_json'\n",
    "\n",
    "for filepath in os.listdir(DIR):\n",
    "    if org_paper_counter % 12350 == 0:\n",
    "        folder_index += 1\n",
    "    shutil.move(DIR+'/'+filepath, 'pdf_json_'+str(folder_index))\n",
    "    org_paper_counter += 1"
   ]
  },
  {
   "cell_type": "code",
   "execution_count": null,
   "metadata": {},
   "outputs": [],
   "source": []
  }
 ],
 "metadata": {
  "kernelspec": {
   "display_name": "Python 3",
   "language": "python",
   "name": "python3"
  },
  "language_info": {
   "codemirror_mode": {
    "name": "ipython",
    "version": 3
   },
   "file_extension": ".py",
   "mimetype": "text/x-python",
   "name": "python",
   "nbconvert_exporter": "python",
   "pygments_lexer": "ipython3",
   "version": "3.6.4"
  }
 },
 "nbformat": 4,
 "nbformat_minor": 2
}
